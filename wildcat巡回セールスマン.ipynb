{
 "cells": [
  {
   "cell_type": "code",
   "execution_count": 1,
   "metadata": {
    "collapsed": true
   },
   "outputs": [],
   "source": [
    "from wildcat.solver.qubo_solver import QuboSolver\n",
    "from wildcat.network.local_endpoint import LocalEndpoint\n",
    "from wildcat.annealer.simulated.simulated_annealer import SimulatedAnnealer\n",
    "from wildcat.annealer.simulated.single_spin_flip_strategy import SingleSpinFlipStrategy\n",
    "from wildcat.annealer.simulated.temperature_schedule import TemperatureSchedule\n",
    "from wildcat.util.matrix import hamiltonian_energy\n",
    "    \n",
    "schedule = TemperatureSchedule(initial_temperature=1000, last_temperature=0.1, scale=0.8)\n",
    "strategy = SingleSpinFlipStrategy(repetition=10)\n",
    "annealer = SimulatedAnnealer(schedule=schedule, strategy=strategy)\n",
    "local_endpoint = LocalEndpoint(annealer=annealer)"
   ]
  },
  {
   "cell_type": "code",
   "execution_count": 2,
   "metadata": {
    "collapsed": true
   },
   "outputs": [],
   "source": [
    "#座標\n",
    "positions = np.array((\n",
    "    (24050.0000, 123783),\n",
    "    (24216.6667, 123933),\n",
    "    (24233.3333, 123950),\n",
    "    (24233.3333, 124016),\n",
    "    (24250.0000, 123866),\n",
    "    (24300.0000, 123683),\n",
    "    (24316.6667, 123900),\n",
    "    (24316.6667, 124083),\n",
    "    (24333.3333, 123733),\n",
    "))\n",
    "#距離の計算\n",
    "def dist(a, b):\n",
    "    a = np.array(a)\n",
    "    b = np.array(b)\n",
    "    return np.sqrt(((a - b)**2).sum())\n",
    "#町の数\n",
    "N = len(positions)\n",
    "#定数A\n",
    "A = 400"
   ]
  },
  {
   "cell_type": "code",
   "execution_count": 3,
   "metadata": {},
   "outputs": [],
   "source": [
    "#行列Dを計算\n",
    "D = np.empty((N, N), dtype = np.float64)\n",
    "for i in range(N):\n",
    "    for j in range(N):\n",
    "        D[i, j] = dist(positions[i], positions[j])"
   ]
  },
  {
   "cell_type": "code",
   "execution_count": 4,
   "metadata": {},
   "outputs": [],
   "source": [
    "#クロネッカーデルタを定義\n",
    "def delta(i, j):\n",
    "    if(i == j):\n",
    "        return 1\n",
    "    else:\n",
    "        return 0"
   ]
  },
  {
   "cell_type": "code",
   "execution_count": 5,
   "metadata": {
    "collapsed": true
   },
   "outputs": [],
   "source": [
    "#行列Jを計算\n",
    "J = np.empty((N, N, N, N), dtype = np.float64)\n",
    "for a in range(N):\n",
    "    for t1 in range(N):\n",
    "        for b in range(N):\n",
    "            for t2 in range(N):\n",
    "                J[a, t1, b, t2] = delta(t1+1, t2) * D[a, b] + A * delta(t1, t2) + A * delta(a, b)\\\n",
    "                                  - 4 * A * delta(a, b) * delta(t1, t2)"
   ]
  },
  {
   "cell_type": "code",
   "execution_count": 6,
   "metadata": {},
   "outputs": [],
   "source": [
    "#定数項の計算\n",
    "C = 2 * A * N"
   ]
  },
  {
   "cell_type": "code",
   "execution_count": 7,
   "metadata": {},
   "outputs": [],
   "source": [
    "#Qの計算\n",
    "Q = np.empty((N*N,N*N), dtype = np.float64)\n",
    "x = 0\n",
    "for a in range(N):\n",
    "    for t1 in range(N):\n",
    "        y = 0\n",
    "        for b in range(N):\n",
    "            for t2 in range(N):\n",
    "                Q[x,y] = J[a,t1,b,t2]\n",
    "                y = y + 1\n",
    "        x = x + 1"
   ]
  },
  {
   "cell_type": "code",
   "execution_count": 8,
   "metadata": {
    "scrolled": true
   },
   "outputs": [
    {
     "name": "stdout",
     "output_type": "stream",
     "text": [
      "Energy:  -179479.61895467353\n",
      "Spins:  [-1  1 -1 -1 -1 -1 -1 -1 -1 -1 -1 -1 -1 -1 -1 -1 -1  1 -1 -1 -1 -1 -1  1\n",
      " -1 -1 -1 -1 -1  1 -1 -1 -1 -1 -1 -1 -1 -1 -1 -1 -1 -1 -1 -1 -1  1 -1 -1\n",
      " -1 -1 -1 -1 -1 -1 -1 -1 -1 -1  1 -1 -1 -1 -1 -1 -1 -1 -1 -1 -1  1 -1 -1\n",
      " -1 -1 -1  1 -1 -1 -1 -1 -1]\n"
     ]
    }
   ],
   "source": [
    "#最適化計算\n",
    "solver = QuboSolver(Q)\n",
    "\n",
    "def callback(arrangement):\n",
    "    e = solver.hamiltonian_energy(arrangement)\n",
    "    print(\"Energy: \", solver.hamiltonian_energy(arrangement))\n",
    "    print(\"Spins: \", arrangement)\n",
    "\n",
    "arrangement = solver.solve(callback, endpoint=local_endpoint).result()"
   ]
  },
  {
   "cell_type": "code",
   "execution_count": 9,
   "metadata": {},
   "outputs": [
    {
     "name": "stdout",
     "output_type": "stream",
     "text": [
      "Result: \n",
      " [[0 1 0 0 0 0 0 0 0]\n",
      " [0 0 0 0 0 0 0 0 1]\n",
      " [0 0 0 0 0 1 0 0 0]\n",
      " [0 0 1 0 0 0 0 0 0]\n",
      " [0 0 0 0 0 0 0 0 0]\n",
      " [1 0 0 0 0 0 0 0 0]\n",
      " [0 0 0 0 1 0 0 0 0]\n",
      " [0 0 0 0 0 0 1 0 0]\n",
      " [0 0 0 1 0 0 0 0 0]]\n"
     ]
    }
   ],
   "source": [
    "result = np.empty((N, N), dtype = np.int)\n",
    "i = 0\n",
    "for x in range(N):\n",
    "    for y in range(N):\n",
    "        if(arrangement[i] == 1):\n",
    "            result[x, y] = 1\n",
    "        else:\n",
    "            result[x, y] = 0\n",
    "        i += 1\n",
    "print(\"Result: \\n\", result)"
   ]
  },
  {
   "cell_type": "code",
   "execution_count": 13,
   "metadata": {},
   "outputs": [
    {
     "name": "stdout",
     "output_type": "stream",
     "text": [
      "Length: 3659.5568747529114\n"
     ]
    }
   ],
   "source": [
    "#距離を計算する\n",
    "length = 0\n",
    "for t in range(N):\n",
    "    for a in range(N):\n",
    "        for b in range(N):\n",
    "            if(t < N-1):\n",
    "                if(result[a, t] == 1 and result[b, t+1] == 1):\n",
    "                    length += D[b, a]\n",
    "            else:\n",
    "                for c in range(N):\n",
    "                    if(result[a, t] == 1 and result[c, 0] == 1):\n",
    "                        length += D[a, c]\n",
    "print(\"Length:\", length)"
   ]
  },
  {
   "cell_type": "code",
   "execution_count": null,
   "metadata": {
    "collapsed": true
   },
   "outputs": [],
   "source": []
  }
 ],
 "metadata": {
  "kernelspec": {
   "display_name": "Python [default]",
   "language": "python",
   "name": "python3"
  },
  "language_info": {
   "codemirror_mode": {
    "name": "ipython",
    "version": 3
   },
   "file_extension": ".py",
   "mimetype": "text/x-python",
   "name": "python",
   "nbconvert_exporter": "python",
   "pygments_lexer": "ipython3",
   "version": "3.6.2"
  }
 },
 "nbformat": 4,
 "nbformat_minor": 2
}
